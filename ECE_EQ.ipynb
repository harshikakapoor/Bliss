{
  "cells": [
    {
      "cell_type": "code",
      "execution_count": null,
      "metadata": {
        "id": "HP-lknXWrPTw"
      },
      "outputs": [],
      "source": [
        "import pandas as pd\n"
      ]
    },
    {
      "cell_type": "code",
      "execution_count": null,
      "metadata": {
        "id": "S95UNlrQrPTx"
      },
      "outputs": [],
      "source": [
        "eceA=pd.read_csv(r'C:\\Users\\Prashant\\Desktop\\collegedata\\ecedata\\eceA.csv')"
      ]
    },
    {
      "cell_type": "code",
      "execution_count": null,
      "metadata": {
        "id": "t-l9KowMrPTy"
      },
      "outputs": [],
      "source": [
        "eceA['user'] = eceA['user'].str.split(' ').str[0] # this will remove that extra roll no"
      ]
    },
    {
      "cell_type": "code",
      "execution_count": null,
      "metadata": {
        "id": "yIfDS5iqrPTy",
        "outputId": "38eaa74c-d49a-4736-d483-fef0cd90ea15"
      },
      "outputs": [
        {
          "data": {
            "text/html": [
              "<div>\n",
              "<style scoped>\n",
              "    .dataframe tbody tr th:only-of-type {\n",
              "        vertical-align: middle;\n",
              "    }\n",
              "\n",
              "    .dataframe tbody tr th {\n",
              "        vertical-align: top;\n",
              "    }\n",
              "\n",
              "    .dataframe thead th {\n",
              "        text-align: right;\n",
              "    }\n",
              "</style>\n",
              "<table border=\"1\" class=\"dataframe\">\n",
              "  <thead>\n",
              "    <tr style=\"text-align: right;\">\n",
              "      <th></th>\n",
              "      <th>user</th>\n",
              "      <th>Email address</th>\n",
              "      <th>Unnamed: 2</th>\n",
              "      <th>1</th>\n",
              "      <th>2</th>\n",
              "      <th>3</th>\n",
              "      <th>4</th>\n",
              "      <th>5</th>\n",
              "      <th>6</th>\n",
              "      <th>7</th>\n",
              "      <th>...</th>\n",
              "      <th>41</th>\n",
              "      <th>42</th>\n",
              "      <th>43</th>\n",
              "      <th>44</th>\n",
              "      <th>45</th>\n",
              "      <th>46</th>\n",
              "      <th>47</th>\n",
              "      <th>48</th>\n",
              "      <th>49</th>\n",
              "      <th>50</th>\n",
              "    </tr>\n",
              "  </thead>\n",
              "  <tbody>\n",
              "    <tr>\n",
              "      <th>0</th>\n",
              "      <td>19241A0401</td>\n",
              "      <td>junaidparray010@gmail.com</td>\n",
              "      <td>NaN</td>\n",
              "      <td>5</td>\n",
              "      <td>4</td>\n",
              "      <td>5</td>\n",
              "      <td>5</td>\n",
              "      <td>3</td>\n",
              "      <td>4</td>\n",
              "      <td>2</td>\n",
              "      <td>...</td>\n",
              "      <td>5</td>\n",
              "      <td>3</td>\n",
              "      <td>5</td>\n",
              "      <td>5</td>\n",
              "      <td>4</td>\n",
              "      <td>5</td>\n",
              "      <td>5</td>\n",
              "      <td>5</td>\n",
              "      <td>3</td>\n",
              "      <td>4</td>\n",
              "    </tr>\n",
              "    <tr>\n",
              "      <th>1</th>\n",
              "      <td>19241A0402</td>\n",
              "      <td>saishivaaavula@gmail.com</td>\n",
              "      <td>NaN</td>\n",
              "      <td>3</td>\n",
              "      <td>3</td>\n",
              "      <td>4</td>\n",
              "      <td>5</td>\n",
              "      <td>5</td>\n",
              "      <td>5</td>\n",
              "      <td>1</td>\n",
              "      <td>...</td>\n",
              "      <td>5</td>\n",
              "      <td>4</td>\n",
              "      <td>5</td>\n",
              "      <td>5</td>\n",
              "      <td>4</td>\n",
              "      <td>4</td>\n",
              "      <td>3</td>\n",
              "      <td>5</td>\n",
              "      <td>4</td>\n",
              "      <td>5</td>\n",
              "    </tr>\n",
              "    <tr>\n",
              "      <th>2</th>\n",
              "      <td>19241A0403</td>\n",
              "      <td>adepuabhiram1@gmail.com</td>\n",
              "      <td>NaN</td>\n",
              "      <td>3</td>\n",
              "      <td>5</td>\n",
              "      <td>5</td>\n",
              "      <td>5</td>\n",
              "      <td>4</td>\n",
              "      <td>5</td>\n",
              "      <td>2</td>\n",
              "      <td>...</td>\n",
              "      <td>4</td>\n",
              "      <td>3</td>\n",
              "      <td>5</td>\n",
              "      <td>4</td>\n",
              "      <td>4</td>\n",
              "      <td>5</td>\n",
              "      <td>5</td>\n",
              "      <td>3</td>\n",
              "      <td>3</td>\n",
              "      <td>3</td>\n",
              "    </tr>\n",
              "    <tr>\n",
              "      <th>3</th>\n",
              "      <td>19241A0404</td>\n",
              "      <td>mickey83space@gmail.com</td>\n",
              "      <td>NaN</td>\n",
              "      <td>5</td>\n",
              "      <td>4</td>\n",
              "      <td>5</td>\n",
              "      <td>5</td>\n",
              "      <td>5</td>\n",
              "      <td>5</td>\n",
              "      <td>4</td>\n",
              "      <td>...</td>\n",
              "      <td>5</td>\n",
              "      <td>5</td>\n",
              "      <td>5</td>\n",
              "      <td>5</td>\n",
              "      <td>3</td>\n",
              "      <td>5</td>\n",
              "      <td>4</td>\n",
              "      <td>5</td>\n",
              "      <td>5</td>\n",
              "      <td>3</td>\n",
              "    </tr>\n",
              "    <tr>\n",
              "      <th>4</th>\n",
              "      <td>19241A0405</td>\n",
              "      <td>sriharshac800@gmail.com</td>\n",
              "      <td>NaN</td>\n",
              "      <td>5</td>\n",
              "      <td>3</td>\n",
              "      <td>5</td>\n",
              "      <td>4</td>\n",
              "      <td>4</td>\n",
              "      <td>5</td>\n",
              "      <td>3</td>\n",
              "      <td>...</td>\n",
              "      <td>3</td>\n",
              "      <td>4</td>\n",
              "      <td>4</td>\n",
              "      <td>4</td>\n",
              "      <td>4</td>\n",
              "      <td>5</td>\n",
              "      <td>3</td>\n",
              "      <td>3</td>\n",
              "      <td>4</td>\n",
              "      <td>5</td>\n",
              "    </tr>\n",
              "  </tbody>\n",
              "</table>\n",
              "<p>5 rows × 53 columns</p>\n",
              "</div>"
            ],
            "text/plain": [
              "         user              Email address  Unnamed: 2  1  2  3  4  5  6  7  \\\n",
              "0  19241A0401  junaidparray010@gmail.com         NaN  5  4  5  5  3  4  2   \n",
              "1  19241A0402   saishivaaavula@gmail.com         NaN  3  3  4  5  5  5  1   \n",
              "2  19241A0403    adepuabhiram1@gmail.com         NaN  3  5  5  5  4  5  2   \n",
              "3  19241A0404    mickey83space@gmail.com         NaN  5  4  5  5  5  5  4   \n",
              "4  19241A0405    sriharshac800@gmail.com         NaN  5  3  5  4  4  5  3   \n",
              "\n",
              "   ...  41  42  43  44  45  46  47  48  49  50  \n",
              "0  ...   5   3   5   5   4   5   5   5   3   4  \n",
              "1  ...   5   4   5   5   4   4   3   5   4   5  \n",
              "2  ...   4   3   5   4   4   5   5   3   3   3  \n",
              "3  ...   5   5   5   5   3   5   4   5   5   3  \n",
              "4  ...   3   4   4   4   4   5   3   3   4   5  \n",
              "\n",
              "[5 rows x 53 columns]"
            ]
          },
          "execution_count": 4,
          "metadata": {},
          "output_type": "execute_result"
        }
      ],
      "source": [
        "eceA.head() # here you can see that extra roll no is removed"
      ]
    },
    {
      "cell_type": "code",
      "execution_count": null,
      "metadata": {
        "id": "PQf_asJNrPTz"
      },
      "outputs": [],
      "source": [
        "# now i am adding the seven features"
      ]
    },
    {
      "cell_type": "code",
      "execution_count": null,
      "metadata": {
        "id": "NxZVa-jQrPTz"
      },
      "outputs": [],
      "source": [
        "eceA['Self']=eceA['1']+eceA['6']+eceA['11']+eceA['21']+eceA['26']+eceA['28']+eceA['31']+eceA['36']+eceA['41']+eceA['46']"
      ]
    },
    {
      "cell_type": "code",
      "execution_count": null,
      "metadata": {
        "id": "47rZJ-7PrPT0"
      },
      "outputs": [],
      "source": [
        "eceA['Emotions'] = eceA['2']+ eceA['7']+eceA['12']+eceA['17']+eceA['22']+eceA['27']+eceA['32']+eceA['37']+eceA['42']+eceA['47']"
      ]
    },
    {
      "cell_type": "code",
      "execution_count": null,
      "metadata": {
        "id": "H2m8J1YqrPT0"
      },
      "outputs": [],
      "source": [
        "eceA['motivating']=eceA['3']+eceA['8']+eceA['18']+eceA['13']+eceA['23']+eceA['28']+eceA['33']+eceA['38']+eceA['43']+eceA['48']"
      ]
    },
    {
      "cell_type": "code",
      "execution_count": null,
      "metadata": {
        "id": "0SATxVi0rPT0"
      },
      "outputs": [],
      "source": [
        "eceA['Empathy']=eceA['4']+eceA['9']+eceA['14']+eceA['19']+eceA['24']+eceA['29']+eceA['34']+eceA['39']+eceA['44']+eceA['49']"
      ]
    },
    {
      "cell_type": "code",
      "execution_count": null,
      "metadata": {
        "id": "7BYdhn0WrPT1"
      },
      "outputs": [],
      "source": [
        "eceA['social']=eceA['5']+eceA['10']+eceA['15']+eceA['20']+eceA['25']+eceA['30']+eceA['35']+eceA['40']+eceA['45']+eceA['50']"
      ]
    },
    {
      "cell_type": "code",
      "execution_count": null,
      "metadata": {
        "id": "SUaqyWvArPT1"
      },
      "outputs": [],
      "source": [
        "# after running the code till here virtually all 5 fields are added now we need to add them in dataset"
      ]
    },
    {
      "cell_type": "code",
      "execution_count": null,
      "metadata": {
        "id": "7bjAc8OCrPT1",
        "outputId": "e18f7626-80cc-4256-d76f-e02342a9274d"
      },
      "outputs": [
        {
          "data": {
            "text/html": [
              "<div>\n",
              "<style scoped>\n",
              "    .dataframe tbody tr th:only-of-type {\n",
              "        vertical-align: middle;\n",
              "    }\n",
              "\n",
              "    .dataframe tbody tr th {\n",
              "        vertical-align: top;\n",
              "    }\n",
              "\n",
              "    .dataframe thead th {\n",
              "        text-align: right;\n",
              "    }\n",
              "</style>\n",
              "<table border=\"1\" class=\"dataframe\">\n",
              "  <thead>\n",
              "    <tr style=\"text-align: right;\">\n",
              "      <th></th>\n",
              "      <th>user</th>\n",
              "      <th>Email address</th>\n",
              "      <th>Unnamed: 2</th>\n",
              "      <th>1</th>\n",
              "      <th>2</th>\n",
              "      <th>3</th>\n",
              "      <th>4</th>\n",
              "      <th>5</th>\n",
              "      <th>6</th>\n",
              "      <th>7</th>\n",
              "      <th>...</th>\n",
              "      <th>46</th>\n",
              "      <th>47</th>\n",
              "      <th>48</th>\n",
              "      <th>49</th>\n",
              "      <th>50</th>\n",
              "      <th>Self</th>\n",
              "      <th>Emotions</th>\n",
              "      <th>motivating</th>\n",
              "      <th>Empathy</th>\n",
              "      <th>social</th>\n",
              "    </tr>\n",
              "  </thead>\n",
              "  <tbody>\n",
              "    <tr>\n",
              "      <th>0</th>\n",
              "      <td>19241A0401</td>\n",
              "      <td>junaidparray010@gmail.com</td>\n",
              "      <td>NaN</td>\n",
              "      <td>5</td>\n",
              "      <td>4</td>\n",
              "      <td>5</td>\n",
              "      <td>5</td>\n",
              "      <td>3</td>\n",
              "      <td>4</td>\n",
              "      <td>2</td>\n",
              "      <td>...</td>\n",
              "      <td>5</td>\n",
              "      <td>5</td>\n",
              "      <td>5</td>\n",
              "      <td>3</td>\n",
              "      <td>4</td>\n",
              "      <td>47</td>\n",
              "      <td>41</td>\n",
              "      <td>42</td>\n",
              "      <td>48</td>\n",
              "      <td>39</td>\n",
              "    </tr>\n",
              "  </tbody>\n",
              "</table>\n",
              "<p>1 rows × 58 columns</p>\n",
              "</div>"
            ],
            "text/plain": [
              "         user              Email address  Unnamed: 2  1  2  3  4  5  6  7  \\\n",
              "0  19241A0401  junaidparray010@gmail.com         NaN  5  4  5  5  3  4  2   \n",
              "\n",
              "   ...  46  47  48  49  50  Self  Emotions  motivating  Empathy  social  \n",
              "0  ...   5   5   5   3   4    47        41          42       48      39  \n",
              "\n",
              "[1 rows x 58 columns]"
            ]
          },
          "execution_count": 12,
          "metadata": {},
          "output_type": "execute_result"
        }
      ],
      "source": [
        "eceA.head(1)"
      ]
    },
    {
      "cell_type": "code",
      "execution_count": null,
      "metadata": {
        "id": "AIbLmu5yrPT2"
      },
      "outputs": [],
      "source": [
        "# just to write this code in new csv file\n",
        "newdata = pd.DataFrame(eceA)"
      ]
    },
    {
      "cell_type": "code",
      "execution_count": null,
      "metadata": {
        "id": "OCkt6BzdrPT2"
      },
      "outputs": [],
      "source": [
        "# after running this command there will be new csv file created in your folder called neweceA.csv\n",
        "#newdata.to_csv(\"C:\\\\Users\\\\Prashant\\\\Desktop\\\\collegedata\\\\ecedata\\\\neweceA.csv\")"
      ]
    },
    {
      "cell_type": "code",
      "execution_count": null,
      "metadata": {
        "id": "YxhPj4ADrPT2",
        "outputId": "b05fe54f-00d0-4397-db70-04f9b63b8db8"
      },
      "outputs": [
        {
          "data": {
            "text/html": [
              "<div>\n",
              "<style scoped>\n",
              "    .dataframe tbody tr th:only-of-type {\n",
              "        vertical-align: middle;\n",
              "    }\n",
              "\n",
              "    .dataframe tbody tr th {\n",
              "        vertical-align: top;\n",
              "    }\n",
              "\n",
              "    .dataframe thead th {\n",
              "        text-align: right;\n",
              "    }\n",
              "</style>\n",
              "<table border=\"1\" class=\"dataframe\">\n",
              "  <thead>\n",
              "    <tr style=\"text-align: right;\">\n",
              "      <th></th>\n",
              "      <th>Unnamed: 0</th>\n",
              "      <th>user</th>\n",
              "      <th>Email address</th>\n",
              "      <th>Date</th>\n",
              "      <th>1</th>\n",
              "      <th>2</th>\n",
              "      <th>3</th>\n",
              "      <th>4</th>\n",
              "      <th>5</th>\n",
              "      <th>6</th>\n",
              "      <th>...</th>\n",
              "      <th>46</th>\n",
              "      <th>47</th>\n",
              "      <th>48</th>\n",
              "      <th>49</th>\n",
              "      <th>50</th>\n",
              "      <th>Self</th>\n",
              "      <th>Emotions</th>\n",
              "      <th>motivating</th>\n",
              "      <th>Empathy</th>\n",
              "      <th>social</th>\n",
              "    </tr>\n",
              "  </thead>\n",
              "  <tbody>\n",
              "    <tr>\n",
              "      <th>0</th>\n",
              "      <td>0</td>\n",
              "      <td>19241A0401</td>\n",
              "      <td>junaidparray010@gmail.com</td>\n",
              "      <td>Wednesday, 27 November 2019, 10:14 AM</td>\n",
              "      <td>5</td>\n",
              "      <td>4</td>\n",
              "      <td>5</td>\n",
              "      <td>5</td>\n",
              "      <td>3</td>\n",
              "      <td>4</td>\n",
              "      <td>...</td>\n",
              "      <td>5</td>\n",
              "      <td>5</td>\n",
              "      <td>5</td>\n",
              "      <td>3</td>\n",
              "      <td>4</td>\n",
              "      <td>47</td>\n",
              "      <td>41</td>\n",
              "      <td>42</td>\n",
              "      <td>48</td>\n",
              "      <td>39</td>\n",
              "    </tr>\n",
              "  </tbody>\n",
              "</table>\n",
              "<p>1 rows × 59 columns</p>\n",
              "</div>"
            ],
            "text/plain": [
              "   Unnamed: 0        user              Email address  \\\n",
              "0           0  19241A0401  junaidparray010@gmail.com   \n",
              "\n",
              "                                    Date  1  2  3  4  5  6  ...  46  47  48  \\\n",
              "0  Wednesday, 27 November 2019, 10:14 AM  5  4  5  5  3  4  ...   5   5   5   \n",
              "\n",
              "   49  50  Self  Emotions  motivating  Empathy  social  \n",
              "0   3   4    47        41          42       48      39  \n",
              "\n",
              "[1 rows x 59 columns]"
            ]
          },
          "execution_count": 15,
          "metadata": {},
          "output_type": "execute_result"
        }
      ],
      "source": [
        "# now write the previous code using this new dataset\n",
        "#which is uploaded on my github\n",
        "import pandas as pd\n",
        "data=pd.read_csv(r'C:\\Users\\Prashant\\Desktop\\collegedata\\ecedata\\neweceA.csv')\n",
        "data.head(1) # now u can see new data is loaded"
      ]
    },
    {
      "cell_type": "code",
      "execution_count": null,
      "metadata": {
        "id": "EjRJFuaOrPT2"
      },
      "outputs": [],
      "source": [
        "\n",
        "disct = {'user':data['user'],'self':data['Self'],'emotions':data['Emotions'],'motivating':data['motivating'],'Empathy':data['Empathy'],'social':data['social']}\n"
      ]
    },
    {
      "cell_type": "code",
      "execution_count": null,
      "metadata": {
        "id": "SLK3hQDWrPT3"
      },
      "outputs": [],
      "source": [
        "features=pd.DataFrame(disct)"
      ]
    },
    {
      "cell_type": "code",
      "execution_count": null,
      "metadata": {
        "id": "kLjhQICFrPT3",
        "outputId": "73ef91b8-0b3f-4816-fa73-fe7ca6a683d7"
      },
      "outputs": [
        {
          "data": {
            "text/html": [
              "<div>\n",
              "<style scoped>\n",
              "    .dataframe tbody tr th:only-of-type {\n",
              "        vertical-align: middle;\n",
              "    }\n",
              "\n",
              "    .dataframe tbody tr th {\n",
              "        vertical-align: top;\n",
              "    }\n",
              "\n",
              "    .dataframe thead th {\n",
              "        text-align: right;\n",
              "    }\n",
              "</style>\n",
              "<table border=\"1\" class=\"dataframe\">\n",
              "  <thead>\n",
              "    <tr style=\"text-align: right;\">\n",
              "      <th></th>\n",
              "      <th>user</th>\n",
              "      <th>self</th>\n",
              "      <th>emotions</th>\n",
              "      <th>motivating</th>\n",
              "      <th>Empathy</th>\n",
              "      <th>social</th>\n",
              "    </tr>\n",
              "  </thead>\n",
              "  <tbody>\n",
              "    <tr>\n",
              "      <th>0</th>\n",
              "      <td>19241A0401</td>\n",
              "      <td>47</td>\n",
              "      <td>41</td>\n",
              "      <td>42</td>\n",
              "      <td>48</td>\n",
              "      <td>39</td>\n",
              "    </tr>\n",
              "    <tr>\n",
              "      <th>1</th>\n",
              "      <td>19241A0402</td>\n",
              "      <td>42</td>\n",
              "      <td>30</td>\n",
              "      <td>38</td>\n",
              "      <td>43</td>\n",
              "      <td>45</td>\n",
              "    </tr>\n",
              "    <tr>\n",
              "      <th>2</th>\n",
              "      <td>19241A0403</td>\n",
              "      <td>41</td>\n",
              "      <td>42</td>\n",
              "      <td>39</td>\n",
              "      <td>43</td>\n",
              "      <td>37</td>\n",
              "    </tr>\n",
              "    <tr>\n",
              "      <th>3</th>\n",
              "      <td>19241A0404</td>\n",
              "      <td>50</td>\n",
              "      <td>41</td>\n",
              "      <td>43</td>\n",
              "      <td>48</td>\n",
              "      <td>41</td>\n",
              "    </tr>\n",
              "    <tr>\n",
              "      <th>4</th>\n",
              "      <td>19241A0405</td>\n",
              "      <td>40</td>\n",
              "      <td>35</td>\n",
              "      <td>32</td>\n",
              "      <td>36</td>\n",
              "      <td>45</td>\n",
              "    </tr>\n",
              "    <tr>\n",
              "      <th>5</th>\n",
              "      <td>19241A0406</td>\n",
              "      <td>35</td>\n",
              "      <td>28</td>\n",
              "      <td>34</td>\n",
              "      <td>32</td>\n",
              "      <td>40</td>\n",
              "    </tr>\n",
              "    <tr>\n",
              "      <th>6</th>\n",
              "      <td>19241A0407</td>\n",
              "      <td>36</td>\n",
              "      <td>33</td>\n",
              "      <td>35</td>\n",
              "      <td>38</td>\n",
              "      <td>32</td>\n",
              "    </tr>\n",
              "    <tr>\n",
              "      <th>7</th>\n",
              "      <td>19241A0408</td>\n",
              "      <td>39</td>\n",
              "      <td>31</td>\n",
              "      <td>27</td>\n",
              "      <td>36</td>\n",
              "      <td>35</td>\n",
              "    </tr>\n",
              "    <tr>\n",
              "      <th>8</th>\n",
              "      <td>19241A0410</td>\n",
              "      <td>41</td>\n",
              "      <td>32</td>\n",
              "      <td>36</td>\n",
              "      <td>34</td>\n",
              "      <td>34</td>\n",
              "    </tr>\n",
              "    <tr>\n",
              "      <th>9</th>\n",
              "      <td>19241A0411</td>\n",
              "      <td>35</td>\n",
              "      <td>30</td>\n",
              "      <td>36</td>\n",
              "      <td>37</td>\n",
              "      <td>38</td>\n",
              "    </tr>\n",
              "    <tr>\n",
              "      <th>10</th>\n",
              "      <td>19241A0412</td>\n",
              "      <td>39</td>\n",
              "      <td>32</td>\n",
              "      <td>33</td>\n",
              "      <td>39</td>\n",
              "      <td>38</td>\n",
              "    </tr>\n",
              "    <tr>\n",
              "      <th>11</th>\n",
              "      <td>19241A0413</td>\n",
              "      <td>41</td>\n",
              "      <td>31</td>\n",
              "      <td>34</td>\n",
              "      <td>39</td>\n",
              "      <td>42</td>\n",
              "    </tr>\n",
              "    <tr>\n",
              "      <th>12</th>\n",
              "      <td>19241A0414</td>\n",
              "      <td>45</td>\n",
              "      <td>37</td>\n",
              "      <td>36</td>\n",
              "      <td>36</td>\n",
              "      <td>39</td>\n",
              "    </tr>\n",
              "    <tr>\n",
              "      <th>13</th>\n",
              "      <td>19241A0415</td>\n",
              "      <td>44</td>\n",
              "      <td>42</td>\n",
              "      <td>37</td>\n",
              "      <td>45</td>\n",
              "      <td>42</td>\n",
              "    </tr>\n",
              "    <tr>\n",
              "      <th>14</th>\n",
              "      <td>19241A0416</td>\n",
              "      <td>36</td>\n",
              "      <td>41</td>\n",
              "      <td>30</td>\n",
              "      <td>37</td>\n",
              "      <td>33</td>\n",
              "    </tr>\n",
              "    <tr>\n",
              "      <th>15</th>\n",
              "      <td>19241A0417</td>\n",
              "      <td>43</td>\n",
              "      <td>33</td>\n",
              "      <td>26</td>\n",
              "      <td>36</td>\n",
              "      <td>39</td>\n",
              "    </tr>\n",
              "    <tr>\n",
              "      <th>16</th>\n",
              "      <td>19241A0418</td>\n",
              "      <td>46</td>\n",
              "      <td>44</td>\n",
              "      <td>39</td>\n",
              "      <td>48</td>\n",
              "      <td>47</td>\n",
              "    </tr>\n",
              "    <tr>\n",
              "      <th>17</th>\n",
              "      <td>19241A0419</td>\n",
              "      <td>41</td>\n",
              "      <td>31</td>\n",
              "      <td>31</td>\n",
              "      <td>39</td>\n",
              "      <td>41</td>\n",
              "    </tr>\n",
              "    <tr>\n",
              "      <th>18</th>\n",
              "      <td>19241A0420</td>\n",
              "      <td>29</td>\n",
              "      <td>28</td>\n",
              "      <td>22</td>\n",
              "      <td>42</td>\n",
              "      <td>31</td>\n",
              "    </tr>\n",
              "    <tr>\n",
              "      <th>19</th>\n",
              "      <td>19241A0421</td>\n",
              "      <td>46</td>\n",
              "      <td>44</td>\n",
              "      <td>41</td>\n",
              "      <td>39</td>\n",
              "      <td>44</td>\n",
              "    </tr>\n",
              "    <tr>\n",
              "      <th>20</th>\n",
              "      <td>19241A0422</td>\n",
              "      <td>46</td>\n",
              "      <td>45</td>\n",
              "      <td>42</td>\n",
              "      <td>45</td>\n",
              "      <td>39</td>\n",
              "    </tr>\n",
              "    <tr>\n",
              "      <th>21</th>\n",
              "      <td>19241A0423</td>\n",
              "      <td>44</td>\n",
              "      <td>35</td>\n",
              "      <td>40</td>\n",
              "      <td>39</td>\n",
              "      <td>34</td>\n",
              "    </tr>\n",
              "    <tr>\n",
              "      <th>22</th>\n",
              "      <td>19241A0425</td>\n",
              "      <td>39</td>\n",
              "      <td>43</td>\n",
              "      <td>32</td>\n",
              "      <td>37</td>\n",
              "      <td>39</td>\n",
              "    </tr>\n",
              "    <tr>\n",
              "      <th>23</th>\n",
              "      <td>19241A0426</td>\n",
              "      <td>37</td>\n",
              "      <td>31</td>\n",
              "      <td>23</td>\n",
              "      <td>41</td>\n",
              "      <td>33</td>\n",
              "    </tr>\n",
              "    <tr>\n",
              "      <th>24</th>\n",
              "      <td>19241A0427</td>\n",
              "      <td>48</td>\n",
              "      <td>45</td>\n",
              "      <td>43</td>\n",
              "      <td>42</td>\n",
              "      <td>44</td>\n",
              "    </tr>\n",
              "    <tr>\n",
              "      <th>25</th>\n",
              "      <td>19241A0428</td>\n",
              "      <td>41</td>\n",
              "      <td>38</td>\n",
              "      <td>34</td>\n",
              "      <td>36</td>\n",
              "      <td>43</td>\n",
              "    </tr>\n",
              "    <tr>\n",
              "      <th>26</th>\n",
              "      <td>19241A0429</td>\n",
              "      <td>47</td>\n",
              "      <td>42</td>\n",
              "      <td>37</td>\n",
              "      <td>41</td>\n",
              "      <td>44</td>\n",
              "    </tr>\n",
              "    <tr>\n",
              "      <th>27</th>\n",
              "      <td>19241A0430</td>\n",
              "      <td>48</td>\n",
              "      <td>34</td>\n",
              "      <td>35</td>\n",
              "      <td>43</td>\n",
              "      <td>42</td>\n",
              "    </tr>\n",
              "    <tr>\n",
              "      <th>28</th>\n",
              "      <td>19241A0431</td>\n",
              "      <td>33</td>\n",
              "      <td>34</td>\n",
              "      <td>28</td>\n",
              "      <td>32</td>\n",
              "      <td>39</td>\n",
              "    </tr>\n",
              "    <tr>\n",
              "      <th>29</th>\n",
              "      <td>19241A0432</td>\n",
              "      <td>29</td>\n",
              "      <td>27</td>\n",
              "      <td>29</td>\n",
              "      <td>32</td>\n",
              "      <td>32</td>\n",
              "    </tr>\n",
              "    <tr>\n",
              "      <th>30</th>\n",
              "      <td>19241A0433</td>\n",
              "      <td>42</td>\n",
              "      <td>36</td>\n",
              "      <td>40</td>\n",
              "      <td>35</td>\n",
              "      <td>39</td>\n",
              "    </tr>\n",
              "    <tr>\n",
              "      <th>31</th>\n",
              "      <td>19241A0434</td>\n",
              "      <td>42</td>\n",
              "      <td>43</td>\n",
              "      <td>34</td>\n",
              "      <td>43</td>\n",
              "      <td>34</td>\n",
              "    </tr>\n",
              "    <tr>\n",
              "      <th>32</th>\n",
              "      <td>19241A0435</td>\n",
              "      <td>42</td>\n",
              "      <td>31</td>\n",
              "      <td>36</td>\n",
              "      <td>41</td>\n",
              "      <td>44</td>\n",
              "    </tr>\n",
              "    <tr>\n",
              "      <th>33</th>\n",
              "      <td>19241A0436</td>\n",
              "      <td>34</td>\n",
              "      <td>35</td>\n",
              "      <td>38</td>\n",
              "      <td>36</td>\n",
              "      <td>36</td>\n",
              "    </tr>\n",
              "    <tr>\n",
              "      <th>34</th>\n",
              "      <td>19241A0437</td>\n",
              "      <td>41</td>\n",
              "      <td>32</td>\n",
              "      <td>34</td>\n",
              "      <td>34</td>\n",
              "      <td>45</td>\n",
              "    </tr>\n",
              "    <tr>\n",
              "      <th>35</th>\n",
              "      <td>19241A0438</td>\n",
              "      <td>49</td>\n",
              "      <td>33</td>\n",
              "      <td>44</td>\n",
              "      <td>42</td>\n",
              "      <td>44</td>\n",
              "    </tr>\n",
              "    <tr>\n",
              "      <th>36</th>\n",
              "      <td>19241A0440</td>\n",
              "      <td>34</td>\n",
              "      <td>30</td>\n",
              "      <td>36</td>\n",
              "      <td>35</td>\n",
              "      <td>34</td>\n",
              "    </tr>\n",
              "    <tr>\n",
              "      <th>37</th>\n",
              "      <td>19241A0441</td>\n",
              "      <td>44</td>\n",
              "      <td>36</td>\n",
              "      <td>39</td>\n",
              "      <td>38</td>\n",
              "      <td>42</td>\n",
              "    </tr>\n",
              "    <tr>\n",
              "      <th>38</th>\n",
              "      <td>19241A0442</td>\n",
              "      <td>32</td>\n",
              "      <td>33</td>\n",
              "      <td>34</td>\n",
              "      <td>31</td>\n",
              "      <td>42</td>\n",
              "    </tr>\n",
              "    <tr>\n",
              "      <th>39</th>\n",
              "      <td>19241A0443</td>\n",
              "      <td>38</td>\n",
              "      <td>39</td>\n",
              "      <td>48</td>\n",
              "      <td>42</td>\n",
              "      <td>44</td>\n",
              "    </tr>\n",
              "    <tr>\n",
              "      <th>40</th>\n",
              "      <td>19241A0444</td>\n",
              "      <td>34</td>\n",
              "      <td>40</td>\n",
              "      <td>33</td>\n",
              "      <td>32</td>\n",
              "      <td>29</td>\n",
              "    </tr>\n",
              "    <tr>\n",
              "      <th>41</th>\n",
              "      <td>19241A0445</td>\n",
              "      <td>31</td>\n",
              "      <td>31</td>\n",
              "      <td>35</td>\n",
              "      <td>32</td>\n",
              "      <td>31</td>\n",
              "    </tr>\n",
              "    <tr>\n",
              "      <th>42</th>\n",
              "      <td>19241A0446</td>\n",
              "      <td>35</td>\n",
              "      <td>33</td>\n",
              "      <td>37</td>\n",
              "      <td>27</td>\n",
              "      <td>32</td>\n",
              "    </tr>\n",
              "    <tr>\n",
              "      <th>43</th>\n",
              "      <td>19241A0447</td>\n",
              "      <td>38</td>\n",
              "      <td>35</td>\n",
              "      <td>34</td>\n",
              "      <td>36</td>\n",
              "      <td>40</td>\n",
              "    </tr>\n",
              "    <tr>\n",
              "      <th>44</th>\n",
              "      <td>19241A0448</td>\n",
              "      <td>41</td>\n",
              "      <td>35</td>\n",
              "      <td>41</td>\n",
              "      <td>39</td>\n",
              "      <td>37</td>\n",
              "    </tr>\n",
              "    <tr>\n",
              "      <th>45</th>\n",
              "      <td>19241A0449</td>\n",
              "      <td>43</td>\n",
              "      <td>31</td>\n",
              "      <td>37</td>\n",
              "      <td>44</td>\n",
              "      <td>40</td>\n",
              "    </tr>\n",
              "    <tr>\n",
              "      <th>46</th>\n",
              "      <td>19241A0450</td>\n",
              "      <td>47</td>\n",
              "      <td>34</td>\n",
              "      <td>27</td>\n",
              "      <td>38</td>\n",
              "      <td>38</td>\n",
              "    </tr>\n",
              "    <tr>\n",
              "      <th>47</th>\n",
              "      <td>19241A0452</td>\n",
              "      <td>45</td>\n",
              "      <td>39</td>\n",
              "      <td>40</td>\n",
              "      <td>41</td>\n",
              "      <td>42</td>\n",
              "    </tr>\n",
              "    <tr>\n",
              "      <th>48</th>\n",
              "      <td>19241A0453</td>\n",
              "      <td>40</td>\n",
              "      <td>34</td>\n",
              "      <td>36</td>\n",
              "      <td>36</td>\n",
              "      <td>39</td>\n",
              "    </tr>\n",
              "    <tr>\n",
              "      <th>49</th>\n",
              "      <td>19241A0454</td>\n",
              "      <td>47</td>\n",
              "      <td>45</td>\n",
              "      <td>40</td>\n",
              "      <td>40</td>\n",
              "      <td>47</td>\n",
              "    </tr>\n",
              "    <tr>\n",
              "      <th>50</th>\n",
              "      <td>19241A0455</td>\n",
              "      <td>48</td>\n",
              "      <td>40</td>\n",
              "      <td>39</td>\n",
              "      <td>45</td>\n",
              "      <td>44</td>\n",
              "    </tr>\n",
              "    <tr>\n",
              "      <th>51</th>\n",
              "      <td>19241A0456</td>\n",
              "      <td>35</td>\n",
              "      <td>35</td>\n",
              "      <td>30</td>\n",
              "      <td>33</td>\n",
              "      <td>34</td>\n",
              "    </tr>\n",
              "    <tr>\n",
              "      <th>52</th>\n",
              "      <td>19241A0457</td>\n",
              "      <td>37</td>\n",
              "      <td>42</td>\n",
              "      <td>36</td>\n",
              "      <td>34</td>\n",
              "      <td>31</td>\n",
              "    </tr>\n",
              "    <tr>\n",
              "      <th>53</th>\n",
              "      <td>19241A0458</td>\n",
              "      <td>45</td>\n",
              "      <td>42</td>\n",
              "      <td>38</td>\n",
              "      <td>43</td>\n",
              "      <td>40</td>\n",
              "    </tr>\n",
              "    <tr>\n",
              "      <th>54</th>\n",
              "      <td>19241A0460</td>\n",
              "      <td>34</td>\n",
              "      <td>36</td>\n",
              "      <td>35</td>\n",
              "      <td>33</td>\n",
              "      <td>26</td>\n",
              "    </tr>\n",
              "  </tbody>\n",
              "</table>\n",
              "</div>"
            ],
            "text/plain": [
              "          user  self  emotions  motivating  Empathy  social\n",
              "0   19241A0401    47        41          42       48      39\n",
              "1   19241A0402    42        30          38       43      45\n",
              "2   19241A0403    41        42          39       43      37\n",
              "3   19241A0404    50        41          43       48      41\n",
              "4   19241A0405    40        35          32       36      45\n",
              "5   19241A0406    35        28          34       32      40\n",
              "6   19241A0407    36        33          35       38      32\n",
              "7   19241A0408    39        31          27       36      35\n",
              "8   19241A0410    41        32          36       34      34\n",
              "9   19241A0411    35        30          36       37      38\n",
              "10  19241A0412    39        32          33       39      38\n",
              "11  19241A0413    41        31          34       39      42\n",
              "12  19241A0414    45        37          36       36      39\n",
              "13  19241A0415    44        42          37       45      42\n",
              "14  19241A0416    36        41          30       37      33\n",
              "15  19241A0417    43        33          26       36      39\n",
              "16  19241A0418    46        44          39       48      47\n",
              "17  19241A0419    41        31          31       39      41\n",
              "18  19241A0420    29        28          22       42      31\n",
              "19  19241A0421    46        44          41       39      44\n",
              "20  19241A0422    46        45          42       45      39\n",
              "21  19241A0423    44        35          40       39      34\n",
              "22  19241A0425    39        43          32       37      39\n",
              "23  19241A0426    37        31          23       41      33\n",
              "24  19241A0427    48        45          43       42      44\n",
              "25  19241A0428    41        38          34       36      43\n",
              "26  19241A0429    47        42          37       41      44\n",
              "27  19241A0430    48        34          35       43      42\n",
              "28  19241A0431    33        34          28       32      39\n",
              "29  19241A0432    29        27          29       32      32\n",
              "30  19241A0433    42        36          40       35      39\n",
              "31  19241A0434    42        43          34       43      34\n",
              "32  19241A0435    42        31          36       41      44\n",
              "33  19241A0436    34        35          38       36      36\n",
              "34  19241A0437    41        32          34       34      45\n",
              "35  19241A0438    49        33          44       42      44\n",
              "36  19241A0440    34        30          36       35      34\n",
              "37  19241A0441    44        36          39       38      42\n",
              "38  19241A0442    32        33          34       31      42\n",
              "39  19241A0443    38        39          48       42      44\n",
              "40  19241A0444    34        40          33       32      29\n",
              "41  19241A0445    31        31          35       32      31\n",
              "42  19241A0446    35        33          37       27      32\n",
              "43  19241A0447    38        35          34       36      40\n",
              "44  19241A0448    41        35          41       39      37\n",
              "45  19241A0449    43        31          37       44      40\n",
              "46  19241A0450    47        34          27       38      38\n",
              "47  19241A0452    45        39          40       41      42\n",
              "48  19241A0453    40        34          36       36      39\n",
              "49  19241A0454    47        45          40       40      47\n",
              "50  19241A0455    48        40          39       45      44\n",
              "51  19241A0456    35        35          30       33      34\n",
              "52  19241A0457    37        42          36       34      31\n",
              "53  19241A0458    45        42          38       43      40\n",
              "54  19241A0460    34        36          35       33      26"
            ]
          },
          "execution_count": 18,
          "metadata": {},
          "output_type": "execute_result"
        }
      ],
      "source": [
        "features"
      ]
    },
    {
      "cell_type": "code",
      "execution_count": null,
      "metadata": {
        "id": "EcQZYBjKrPT3"
      },
      "outputs": [],
      "source": [
        "import matplotlib.pyplot as plt"
      ]
    },
    {
      "cell_type": "code",
      "execution_count": null,
      "metadata": {
        "id": "Tod5W0oqrPT3"
      },
      "outputs": [],
      "source": [
        "\n",
        "\n",
        "import seaborn as sns\n",
        "import numpy as np\n",
        "\n"
      ]
    },
    {
      "cell_type": "code",
      "execution_count": null,
      "metadata": {
        "id": "Hke9leLzrPT3",
        "outputId": "3664571f-8357-4af8-8724-1843e8ce8728"
      },
      "outputs": [
        {
          "data": {
            "text/plain": [
              "Text(0.5, 1.0, 'ECE-A')"
            ]
          },
          "execution_count": 21,
          "metadata": {},
          "output_type": "execute_result"
        },
        {
          "data": {
            "image/png": "[encoded data removed]",
            "text/plain": [
              "<Figure size 432x288 with 1 Axes>"
            ]
          },
          "metadata": {},
          "output_type": "display_data"
        }
      ],
      "source": [
        "values=[13,40]\n",
        "labels=[\"SelfAwareness Problem\",\"Normal students\"]\n",
        "explode=[0.2,0]\n",
        "color=['red','lime']\n",
        "plt.pie(values,labels=labels,autopct='%2f',explode=explode,colors=color)\n",
        "plt.title(\"ECE-A\")"
      ]
    },
    {
      "cell_type": "code",
      "execution_count": null,
      "metadata": {
        "id": "vv2SyxHErPT3",
        "outputId": "739cb52e-2beb-4b36-eeb5-d7f8e3c57a7d"
      },
      "outputs": [
        {
          "data": {
            "image/png": "[encoded data removed]",
            "text/plain": [
              "<Figure size 1080x288 with 1 Axes>"
            ]
          },
          "metadata": {
            "needs_background": "light"
          },
          "output_type": "display_data"
        },
        {
          "name": "stdout",
          "output_type": "stream",
          "text": [
            "student having marks below 35 13\n",
            "student having marks above 35 42\n"
          ]
        }
      ],
      "source": [
        "me= pd.DataFrame(features['self'], columns=['self'])\n",
        "\n",
        "\n",
        "x = features['user']\n",
        "y = me['self'].sort_values()\n",
        "\n",
        "mask1 = y <= 35\n",
        "mask2 = y > 35\n",
        "\n",
        "fig = plt.figure()\n",
        "plt.xticks(rotation=90)\n",
        "fig.set_figheight(4)\n",
        "fig.set_figwidth(15)\n",
        "plt.axhline(y=35,linewidth=1,ls='-.')\n",
        "\n",
        "\n",
        "plt.bar(x[mask1], y[mask1], color = 'red')\n",
        "\n",
        "plt.bar(x[mask2], y[mask2], color = 'lime')\n",
        "plt.title('SelfAwareness')\n",
        "plt.gca().legend(('score=35','score<35'))\n",
        "plt.xlabel('Students')\n",
        "plt.ylabel('Score')\n",
        "plt.show()\n",
        "print(\"student having marks below 35\",len(x[mask1]))\n",
        "print(\"student having marks above 35\",len(x[mask2]))"
      ]
    },
    {
      "cell_type": "markdown",
      "metadata": {
        "id": "u8tteU9MrPT4"
      },
      "source": [
        "### social weakness"
      ]
    },
    {
      "cell_type": "code",
      "execution_count": null,
      "metadata": {
        "id": "fvmgslr1rPT5",
        "outputId": "7e89e6a4-510d-44e0-bf0f-a99f6162d1be"
      },
      "outputs": [
        {
          "data": {
            "text/plain": [
              "Text(0.5, 1.0, 'ECE-A')"
            ]
          },
          "execution_count": 23,
          "metadata": {},
          "output_type": "execute_result"
        },
        {
          "data": {
            "image/png": "[encoded data removed]",
            "text/plain": [
              "<Figure size 432x288 with 1 Axes>"
            ]
          },
          "metadata": {},
          "output_type": "display_data"
        }
      ],
      "source": [
        "values=[16,39] # these value are written from down bargraph there i have printed both values so update values from there\n",
        "labels=[\"Socialweakness\",\"Normal students\"]\n",
        "explode=[0.2,0]\n",
        "color=['red','lime']\n",
        "plt.pie(values,labels=labels,autopct='%2f',explode=explode,colors=color)\n",
        "plt.title(\"ECE-A\")"
      ]
    },
    {
      "cell_type": "code",
      "execution_count": null,
      "metadata": {
        "id": "ORwQykBIrPT5",
        "outputId": "b19af859-41cb-4877-a826-27959a3dc674"
      },
      "outputs": [
        {
          "data": {
            "image/png": "[encoded data removed]",
            "text/plain": [
              "<Figure size 1080x288 with 1 Axes>"
            ]
          },
          "metadata": {
            "needs_background": "light"
          },
          "output_type": "display_data"
        },
        {
          "name": "stdout",
          "output_type": "stream",
          "text": [
            "student having marks below 35 16\n",
            "student having marks above 35 39\n"
          ]
        }
      ],
      "source": [
        "import numpy as np\n",
        "import matplotlib.pyplot as plt\n",
        "%matplotlib inline\n",
        "\n",
        "sk = pd.DataFrame(features['social'], columns=['social'])\n",
        "#newdata.index = np.arange(1, len(newdata) + 1)\n",
        "x = features['user']\n",
        "y = sk['social'].sort_values()\n",
        "\n",
        "mask1 = y <= 35\n",
        "mask2 = y > 35\n",
        "fig = plt.figure()\n",
        "fig.set_figheight(4)\n",
        "fig.set_figwidth(15)\n",
        "plt.xticks(rotation=90)\n",
        "plt.axhline(y=35,linewidth=1,ls='-.')\n",
        "plt.bar(x[mask1], y[mask1], color = 'red')\n",
        "plt.bar(x[mask2], y[mask2], color = 'lime')\n",
        "\n",
        "plt.gca().legend(('score=35','score<35'))\n",
        "plt.xlabel('students')\n",
        "plt.ylabel('Score')\n",
        "plt.title('BAR-GRAPH FOR SOCIAL WEAKNESS')\n",
        "plt.show()\n",
        "print(\"student having marks below 35\",len(x[mask1]))\n",
        "print(\"student having marks above 35\",len(x[mask2]))\n"
      ]
    },
    {
      "cell_type": "markdown",
      "metadata": {
        "id": "EM4R4FKErPT5"
      },
      "source": [
        "## Empathy\n"
      ]
    },
    {
      "cell_type": "code",
      "execution_count": null,
      "metadata": {
        "id": "3kMEO8yqrPT6",
        "outputId": "834f3d78-9ffc-49da-cddf-6166b62292fe"
      },
      "outputs": [
        {
          "data": {
            "text/plain": [
              "Text(0.5, 1.0, 'ECE-A')"
            ]
          },
          "execution_count": 25,
          "metadata": {},
          "output_type": "execute_result"
        },
        {
          "data": {
            "image/png": "[encoded data removed]",
            "text/plain": [
              "<Figure size 432x288 with 1 Axes>"
            ]
          },
          "metadata": {},
          "output_type": "display_data"
        }
      ],
      "source": [
        "values=[14,41]\n",
        "labels=[\"Low Empathy\",\"Normal students\"]\n",
        "explode=[0.2,0]\n",
        "color=['red','lime']\n",
        "plt.pie(values,labels=labels,autopct='%2f',explode=explode,colors=color)\n",
        "plt.title(\"ECE-A\")"
      ]
    },
    {
      "cell_type": "code",
      "execution_count": null,
      "metadata": {
        "id": "7o1N3aIurPT6",
        "outputId": "ad160142-3f62-4219-ffe8-edcfe956fe02"
      },
      "outputs": [
        {
          "data": {
            "image/png": "[encoded data removed]",
            "text/plain": [
              "<Figure size 1080x288 with 1 Axes>"
            ]
          },
          "metadata": {
            "needs_background": "light"
          },
          "output_type": "display_data"
        },
        {
          "name": "stdout",
          "output_type": "stream",
          "text": [
            "student having marks below 35 14\n",
            "student having marks above 35 41\n"
          ]
        }
      ],
      "source": [
        "\n",
        "\n",
        "import numpy as np\n",
        "import matplotlib.pyplot as plt\n",
        "\n",
        "dict = {'Empathy':features['Empathy']}\n",
        "empathy = pd.DataFrame(dict)\n",
        "x = features['user']\n",
        "y = empathy['Empathy'].sort_values()\n",
        "fig = plt.figure()\n",
        "fig.set_figheight(4)\n",
        "fig.set_figwidth(15)\n",
        "mask1 = y <= 35\n",
        "mask2 = y > 35\n",
        "plt.xticks(rotation=90)\n",
        "plt.axhline(y=35,linewidth=1,ls='-.',color='red')\n",
        "plt.bar(x[mask1], y[mask1], color = 'red')\n",
        "plt.bar(x[mask2], y[mask2], color = 'lime')\n",
        "plt.xlabel(\"Students\")\n",
        "plt.ylabel(\"Score\")\n",
        "\n",
        "plt.gca().legend(('score=35','score<35'))\n",
        "\n",
        "plt.show()\n",
        "print(\"student having marks below 35\",len(x[mask1]))\n",
        "print(\"student having marks above 35\",len(x[mask2]))\n",
        "\n",
        "\n"
      ]
    },
    {
      "cell_type": "markdown",
      "metadata": {
        "id": "kzAiJRZWrPT6"
      },
      "source": [
        "### Emotions"
      ]
    },
    {
      "cell_type": "code",
      "execution_count": null,
      "metadata": {
        "id": "r9gIDp6_rPT6",
        "outputId": "2253ba1e-e067-4128-ff0c-fed1e1e0e037"
      },
      "outputs": [
        {
          "data": {
            "text/plain": [
              "Text(0.5, 1.0, 'CIVIL-B')"
            ]
          },
          "execution_count": 27,
          "metadata": {},
          "output_type": "execute_result"
        },
        {
          "data": {
            "image/png": "[encoded data removed]",
            "text/plain": [
              "<Figure size 432x288 with 1 Axes>"
            ]
          },
          "metadata": {},
          "output_type": "display_data"
        }
      ],
      "source": [
        "values=[31,24]\n",
        "labels=[\"Emotion\",\"Normal students\"]\n",
        "explode=[0.2,0]\n",
        "color=['red','lime']\n",
        "plt.pie(values,labels=labels,autopct='%2f',explode=explode,colors=color)\n",
        "plt.title(\"CIVIL-B\")"
      ]
    },
    {
      "cell_type": "code",
      "execution_count": null,
      "metadata": {
        "id": "mv_cq1surPT7",
        "outputId": "8f2c6888-0330-4f05-a846-a0397a6bcda2"
      },
      "outputs": [
        {
          "data": {
            "image/png": "[encoded data removed]",
            "text/plain": [
              "<Figure size 1080x288 with 1 Axes>"
            ]
          },
          "metadata": {
            "needs_background": "light"
          },
          "output_type": "display_data"
        },
        {
          "name": "stdout",
          "output_type": "stream",
          "text": [
            "student having marks below 35 31\n",
            "student having marks above 35 24\n"
          ]
        }
      ],
      "source": [
        "import numpy as np\n",
        "import matplotlib.pyplot as plt\n",
        "\n",
        "dict = {'emotions':features['emotions']}\n",
        "emotions = pd.DataFrame(dict)\n",
        "x = features['user']\n",
        "y = emotions['emotions'].sort_values()\n",
        "fig = plt.figure()\n",
        "fig.set_figheight(4)\n",
        "fig.set_figwidth(15)\n",
        "mask1 = y <= 35\n",
        "mask2 = y > 35\n",
        "plt.xticks(rotation=90)\n",
        "plt.axhline(y=35,linewidth=1,ls='-.',color='red')\n",
        "plt.bar(x[mask1], y[mask1], color = 'red')\n",
        "plt.bar(x[mask2], y[mask2], color = 'lime')\n",
        "plt.xlabel(\"Students\")\n",
        "plt.ylabel(\"Score\")\n",
        "\n",
        "plt.gca().legend(('score=35','score<35'))\n",
        "\n",
        "plt.show()\n",
        "print(\"student having marks below 35\",len(x[mask1]))\n",
        "print(\"student having marks above 35\",len(x[mask2]))"
      ]
    },
    {
      "cell_type": "markdown",
      "metadata": {
        "id": "QNBhkca5rPT7"
      },
      "source": [
        "## Motivating oneself"
      ]
    },
    {
      "cell_type": "code",
      "execution_count": null,
      "metadata": {
        "id": "IBT33NUXrPT7",
        "outputId": "b6c407ed-479a-4836-c8b8-d81fec51fa5c"
      },
      "outputs": [
        {
          "data": {
            "text/plain": [
              "Text(0.5, 1.0, 'ECE-A')"
            ]
          },
          "execution_count": 29,
          "metadata": {},
          "output_type": "execute_result"
        },
        {
          "data": {
            "image/png": "[encoded data removed]",
            "text/plain": [
              "<Figure size 432x288 with 1 Axes>"
            ]
          },
          "metadata": {},
          "output_type": "display_data"
        }
      ],
      "source": [
        "values=[25,30]\n",
        "labels=[\"Motivating-oneself Problem\",\"Normal students\"]\n",
        "explode=[0.2,0]\n",
        "color=['red','lime']\n",
        "plt.pie(values,labels=labels,autopct='%2f',explode=explode,colors=color)\n",
        "plt.title(\"ECE-A\")\n"
      ]
    },
    {
      "cell_type": "code",
      "execution_count": null,
      "metadata": {
        "id": "2DHEhjC7rPT7",
        "outputId": "3a868f40-6bea-47ca-c1a6-54cdc5e6c945"
      },
      "outputs": [
        {
          "data": {
            "image/png": "[encoded data removed]",
            "text/plain": [
              "<Figure size 1080x288 with 1 Axes>"
            ]
          },
          "metadata": {
            "needs_background": "light"
          },
          "output_type": "display_data"
        },
        {
          "name": "stdout",
          "output_type": "stream",
          "text": [
            "student having marks below 35 25\n",
            "student having marks above 35 30\n"
          ]
        }
      ],
      "source": [
        "import numpy as np\n",
        "import matplotlib.pyplot as plt\n",
        "\n",
        "dict = {'motivating':features['motivating']}\n",
        "motivating = pd.DataFrame(dict)\n",
        "x = features['user']\n",
        "y = motivating['motivating'].sort_values()\n",
        "fig = plt.figure()\n",
        "fig.set_figheight(4)\n",
        "fig.set_figwidth(15)\n",
        "mask1 = y <= 35\n",
        "mask2 = y > 35\n",
        "plt.xticks(rotation=90)\n",
        "plt.axhline(y=35,linewidth=1,ls='-.',color='red')\n",
        "plt.bar(x[mask1], y[mask1], color = 'red')\n",
        "plt.bar(x[mask2], y[mask2], color = 'lime')\n",
        "plt.xlabel(\"Students\")\n",
        "plt.ylabel(\"Score\")\n",
        "\n",
        "plt.gca().legend(('score=35','score<35'))\n",
        "\n",
        "plt.show()\n",
        "print(\"student having marks below 35\",len(x[mask1]))\n",
        "print(\"student having marks above 35\",len(x[mask2]))"
      ]
    },
    {
      "cell_type": "code",
      "execution_count": null,
      "metadata": {
        "id": "fN8EHjaurPT7",
        "outputId": "ddd3d841-c0d9-4e85-a7a0-b6938fc57776"
      },
      "outputs": [
        {
          "data": {
            "image/png": "[encoded data removed]",
            "text/plain": [
              "<Figure size 432x288 with 1 Axes>"
            ]
          },
          "metadata": {},
          "output_type": "display_data"
        },
        {
          "data": {
            "image/png": "[encoded data removed]",
            "text/plain": [
              "<Figure size 432x288 with 1 Axes>"
            ]
          },
          "metadata": {},
          "output_type": "display_data"
        }
      ],
      "source": [
        "###This is Student wise ###\n",
        "\n",
        "disct = {'Self':data['Self'],'emotions':data['Emotions'],'motivating':data['motivating'],'Empathy':data['Empathy'],'social':data['social']}\n",
        "users = pd.DataFrame(disct)\n",
        "values=users.iloc[11]\n",
        "clrs = ['lime' if (x > 35) else 'red' for x in values ]\n",
        "\n",
        "explode=[0.1,0.1,0.1,0.1,0.1]\n",
        "labels=['Self','emotions','motivating','Empathy','Social']\n",
        "plt.pie(values,labels=labels,autopct='%2f',colors=clrs,explode=explode,counterclock=False,startangle=-270)\n",
        "plt.title(features.user.iloc[11])\n",
        "plt.title(\"\")\n",
        "plt.show()\n",
        "### Final OF ALL  IT Iam adding her ##\n",
        "import matplotlib.pyplot as plt\n",
        "values=[46,116,84,64,57]\n",
        "\n",
        "explode=[0.05,0.05,0.05,0.05,0.05]\n",
        "labels=['self','Emotions','motivating','empathy','social']\n",
        "\n",
        "plt.pie(values,startangle=-235,labels=labels,autopct='%2f',pctdistance=1.5,explode=explode)\n",
        "plt.title(\"ECE-Branch\")\n",
        "plt.show()"
      ]
    },
    {
      "cell_type": "code",
      "execution_count": null,
      "metadata": {
        "id": "RDiydVJ6rPT8"
      },
      "outputs": [],
      "source": []
    }
  ],
  "metadata": {
    "kernelspec": {
      "display_name": "Python 3",
      "language": "python",
      "name": "python3"
    },
    "language_info": {
      "codemirror_mode": {
        "name": "ipython",
        "version": 3
      },
      "file_extension": ".py",
      "mimetype": "text/x-python",
      "name": "python",
      "nbconvert_exporter": "python",
      "pygments_lexer": "ipython3",
      "version": "3.7.3"
    },
    "colab": {
      "provenance": []
    }
  },
  "nbformat": 4,
  "nbformat_minor": 0
}